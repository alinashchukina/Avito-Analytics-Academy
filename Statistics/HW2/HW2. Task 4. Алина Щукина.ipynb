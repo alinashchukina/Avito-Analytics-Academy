{
 "cells": [
  {
   "cell_type": "markdown",
   "metadata": {},
   "source": [
    "HW2. Task 4. Алина Щукина"
   ]
  },
  {
   "cell_type": "code",
   "execution_count": 1,
   "metadata": {},
   "outputs": [],
   "source": [
    "import numpy as np\n",
    "import matplotlib.pyplot as plt\n",
    "from statsmodels.stats.weightstats import ttest_ind"
   ]
  },
  {
   "cell_type": "markdown",
   "metadata": {},
   "source": [
    "Сгенерируем 100000 значений из распределения Пуассона, которые потенциально могли бы описывать посещаемость, например, какой-то страницы в Интернете в течение дня. И по графику, и по самой природе нашей генерации чисел мы видим, что данные не имеют нормального распределения. "
   ]
  },
  {
   "cell_type": "code",
   "execution_count": 2,
   "metadata": {},
   "outputs": [],
   "source": [
    "attendance = np.random.poisson(5, 100000)"
   ]
  },
  {
   "cell_type": "code",
   "execution_count": 3,
   "metadata": {},
   "outputs": [
    {
     "data": {
      "image/png": "[encoded data removed]",
      "text/plain": [
       "<Figure size 432x288 with 1 Axes>"
      ]
     },
     "metadata": {
      "needs_background": "light"
     },
     "output_type": "display_data"
    }
   ],
   "source": [
    "plt.hist(attendance)\n",
    "plt.show()"
   ]
  },
  {
   "cell_type": "code",
   "execution_count": 4,
   "metadata": {},
   "outputs": [],
   "source": [
    "np.random.seed(101)"
   ]
  },
  {
   "cell_type": "code",
   "execution_count": 5,
   "metadata": {},
   "outputs": [
    {
     "name": "stdout",
     "output_type": "stream",
     "text": [
      "FPR is 0.061\n"
     ]
    }
   ],
   "source": [
    "positive = 0\n",
    "negative = 0\n",
    "alpha = 0.05\n",
    "\n",
    "aa_test_size = 1500\n",
    "aa_control_size = 1500\n",
    "sample_size = aa_test_size + aa_control_size\n",
    "\n",
    "for sample_last in np.arange(start=sample_size - 1, stop=len(attendance), step=sample_size):\n",
    "    \n",
    "    sample_first = sample_last - sample_size + 1\n",
    "    \n",
    "    aa_test = attendance[sample_first:sample_first + aa_test_size]\n",
    "    \n",
    "    aa_control = attendance[sample_first + aa_test_size:sample_last + 1]\n",
    "    \n",
    "    p_value = ttest_ind(aa_test, aa_control, alternative='larger', usevar='unequal')[1]\n",
    "    if p_value <= alpha:\n",
    "        positive += 1\n",
    "    else:\n",
    "        negative += 1\n",
    "    \n",
    "print(f'FPR is {positive / (positive + negative):.3f}')\n"
   ]
  },
  {
   "cell_type": "markdown",
   "metadata": {},
   "source": [
    "Допустим, такое распределение посещаемости на сайте было до того, как на нём произошли какие-либо изменения. Таким образом, гипотеза о равенстве средних двух любых подвыборок из этого распределения должна не отвергаться. Возьмём тестовую и контрольную выборки размером 1500 каждая, и будем итеративно проводить тесты. Если тест будет отвергать гипотезу (то есть делать ложное открытие), будем считать это за ошибку, и в итоге посчитаем False Positive Rate. В нашем случае он получился 0.061 при заявленной альфе 0.05. Таким образом, с помощью AA-Монте-Карло мы увидели, что в нашей задаче критерий Стьюдента не даёт долю ошибок первого рода (False Positive Rate), равную заявленной альфе."
   ]
  },
  {
   "cell_type": "code",
   "execution_count": null,
   "metadata": {},
   "outputs": [],
   "source": []
  }
 ],
 "metadata": {
  "kernelspec": {
   "display_name": "Python 3",
   "language": "python",
   "name": "python3"
  },
  "language_info": {
   "codemirror_mode": {
    "name": "ipython",
    "version": 3
   },
   "file_extension": ".py",
   "mimetype": "text/x-python",
   "name": "python",
   "nbconvert_exporter": "python",
   "pygments_lexer": "ipython3",
   "version": "3.7.6"
  }
 },
 "nbformat": 4,
 "nbformat_minor": 4
}
