{
 "cells": [
  {
   "cell_type": "markdown",
   "metadata": {},
   "source": [
    "HW2. Task 2. Алина Щукина"
   ]
  },
  {
   "cell_type": "code",
   "execution_count": 1,
   "metadata": {},
   "outputs": [],
   "source": [
    "import numpy as np"
   ]
  },
  {
   "cell_type": "code",
   "execution_count": 18,
   "metadata": {},
   "outputs": [],
   "source": [
    "def my_t_test(x_n: list, mu0, alpha = 0.05):\n",
    "    \n",
    "    # H0: mu = mu0 (correct)\n",
    "    # H1: mu != mu0 (two-sided)\n",
    "    \n",
    "    n = len(x_n)\n",
    "    \n",
    "    sample_mean = np.mean(x_n)\n",
    "    \n",
    "    estimated_sigma = (sum([(x_i - sample_mean) ** 2 for x_i in x_n]) / (n - 1)) ** 0.5\n",
    "    \n",
    "    # SEM = standard error of the mean\n",
    "    estimated_sem = estimated_sigma / n ** 0.5\n",
    "    \n",
    "    # calculating t-statistic using estimated SEM instead of true SEM\n",
    "    t_statistic = (sample_mean - mu0) / estimated_sem\n",
    "    \n",
    "    t_stat_distribution = []\n",
    "    for _ in range(1000):\n",
    "        \n",
    "        x = np.random.rand(n) \n",
    "        sample_mean = np.mean(x)\n",
    "        sigma = np.std(x)\n",
    "        norm_sample = [ (1/(sigma * (2 * np.pi) ** 0.5)) * \n",
    "                                   (np.exp((-(x_i - sample_mean) ** 2) / (2 * sigma **2)))  for x_i in x]\n",
    "        norm_sample_mean = np.mean(norm_sample)\n",
    "        norm_estimated_sigma = (sum([(x_i - norm_sample_mean) ** 2 for x_i in norm_sample]) / (n - 1)) ** 0.5\n",
    "        norm_estimated_sem = norm_estimated_sigma / n ** 0.5\n",
    "        t_statistic = (norm_sample_mean - mu0) / norm_estimated_sem\n",
    "        t_stat_distribution.append(t_statistic)\n",
    "    \n",
    "    \n",
    "    t_stat_distribution.sort()\n",
    "    if t_statistic > 0:\n",
    "        if t_statistic >= np.percentile(t_stat_distribution, 1 - alpha/2):\n",
    "            return 1\n",
    "        else:\n",
    "            return 0\n",
    "    else:\n",
    "        if t_statistic <= np.percentile(t_stat_distribution, alpha/2):\n",
    "            return 1\n",
    "        else:\n",
    "            return 0"
   ]
  }
 ],
 "metadata": {
  "kernelspec": {
   "display_name": "Python 3",
   "language": "python",
   "name": "python3"
  },
  "language_info": {
   "codemirror_mode": {
    "name": "ipython",
    "version": 3
   },
   "file_extension": ".py",
   "mimetype": "text/x-python",
   "name": "python",
   "nbconvert_exporter": "python",
   "pygments_lexer": "ipython3",
   "version": "3.7.6"
  }
 },
 "nbformat": 4,
 "nbformat_minor": 4
}
