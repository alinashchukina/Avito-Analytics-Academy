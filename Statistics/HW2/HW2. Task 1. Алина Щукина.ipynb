{
 "cells": [
  {
   "cell_type": "markdown",
   "metadata": {},
   "source": [
    "HW2. Task 1. Алина Щукина"
   ]
  },
  {
   "cell_type": "code",
   "execution_count": 14,
   "metadata": {},
   "outputs": [],
   "source": [
    "import numpy as np\n",
    "from scipy.stats import t"
   ]
  },
  {
   "cell_type": "code",
   "execution_count": 15,
   "metadata": {},
   "outputs": [],
   "source": [
    "def my_t_test(x_n: list, mu0, alpha = 0.05):\n",
    "    \n",
    "    # H0: mu = mu0 (correct)\n",
    "    # H1: mu != mu0 (two-sided)\n",
    "    \n",
    "    n = len(x_n)\n",
    "    \n",
    "    sample_mean = np.mean(x_n)\n",
    "    \n",
    "    estimated_sigma = (sum([(x_i - sample_mean) ** 2 for x_i in x_n]) / (n - 1)) ** 0.5\n",
    "    \n",
    "    # SEM = standard error of the mean\n",
    "    estimated_sem = estimated_sigma / n ** 0.5\n",
    "    \n",
    "    # calculating t-statistic using estimated SEM instead of true SEM\n",
    "    t_statistic = (sample_mean - mu0) / estimated_sem\n",
    "    \n",
    "    # if H0 is true, t has distribution of Student(n - 1)\n",
    "    if t_statistic > 0:\n",
    "        p_value = 2*(1 - t(df = n - 1).cdf(t_statistic))\n",
    "    else:\n",
    "        p_value = 2*(t(df = n - 1).cdf(t_statistic))\n",
    "    \n",
    "    if p_value <= alpha:\n",
    "        return 1\n",
    "    else:\n",
    "        return 0\n",
    "    "
   ]
  }
 ],
 "metadata": {
  "kernelspec": {
   "display_name": "Python 3",
   "language": "python",
   "name": "python3"
  },
  "language_info": {
   "codemirror_mode": {
    "name": "ipython",
    "version": 3
   },
   "file_extension": ".py",
   "mimetype": "text/x-python",
   "name": "python",
   "nbconvert_exporter": "python",
   "pygments_lexer": "ipython3",
   "version": "3.7.6"
  }
 },
 "nbformat": 4,
 "nbformat_minor": 4
}
