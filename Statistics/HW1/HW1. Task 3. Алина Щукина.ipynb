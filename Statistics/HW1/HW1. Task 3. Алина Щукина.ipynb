{
 "cells": [
  {
   "cell_type": "markdown",
   "metadata": {},
   "source": [
    "\n",
    "\n",
    "$\n",
    "    \\xi \\sim \\text{multinomial}(n, \\{\\mu_1, \\mu_2, \\mu_3, \\mu_4\\}) =  \\text{multinomial}(n, \\mu^4)\n",
    "$\n",
    "\n",
    "\n",
    "$\n",
    "    H_0 : \\mu^4 = \\{0.15 ,0.20, 0.30, 0.35\\}\n",
    "$\n",
    "\n",
    "$\n",
    "    H_1 : \\mu^4 = \\left\\{\\frac{0.15}{1+k}+\\frac{k}{1+k} ,\\frac{0.20}{1+k}, \\frac{0.30}{1+k}, \\frac{0.35}{1+k}\\right\\}\n",
    "$\n",
    "\n",
    "$\n",
    "~~~~~~~\\text{или}~\\left\\{\\frac{0.15}{1+k},\\frac{0.20}{1+k}+\\frac{k}{1+k}, \\frac{0.30}{1+k}, \\frac{0.35}{1+k}\\right\\}\n",
    "$\n",
    "\n",
    "$\n",
    "~~~~~~~\\text{или}~\\left\\{\\frac{0.15}{1+k},\\frac{0.20}{1+k}, \\frac{0.30}{1+k}+\\frac{k}{1+k}, \\frac{0.35}{1+k}\\right\\}\n",
    "$\n",
    "\n",
    "$\n",
    "~~~~~~~\\text{или}~\\left\\{\\frac{0.15}{1+k},\\frac{0.20}{1+k}, \\frac{0.30}{1+k}, \\frac{0.35}{1+k}+\\frac{k}{1+k}\\right\\},~~~~k > 0\n",
    "$"
   ]
  },
  {
   "cell_type": "markdown",
   "metadata": {},
   "source": [
    "Наша статистика должна быть величиной, которая хорошо характеризует отклонение нашего значения от ожидаемого. Мы хотим выявить случаи, когда доля трафика от одного из провайдеров подозрительно большая. Давайте возьмём в качестве статистики сумму квадратов отклонений наблюдаемого трафика каждого из провайдеров от \"нормальных неподмешанных\" значений."
   ]
  },
  {
   "cell_type": "markdown",
   "metadata": {},
   "source": [
    "$ t = \\left(\\dfrac{x_1}{n} - 0.15\\right)^2 + \\left(\\dfrac{x_2}{n} - 0.20\\right)^2 + \\left(\\dfrac{x_3}{n} - 0.30\\right)^2 + \\left(\\dfrac{x_4}{n} - 0.35\\right)^2$"
   ]
  },
  {
   "cell_type": "code",
   "execution_count": 1,
   "metadata": {},
   "outputs": [],
   "source": [
    "def quad_stat(providers: list) -> float:\n",
    "    \"\"\"\n",
    "    Эта функция считает статистику описанную выше для наблюдаемых значений трафиков\n",
    "    \"\"\"\n",
    "    a = providers[0] / sum(providers)\n",
    "    b = providers[1] / sum(providers)\n",
    "    c = providers[2] / sum(providers)\n",
    "    d = providers[3] / sum(providers)\n",
    "    return ((a - 0.15)**2 + (b - 0.20)**2 +\n",
    "                     (c - 0.30)**2 + (d - 0.35)**2)"
   ]
  },
  {
   "cell_type": "markdown",
   "metadata": {},
   "source": [
    "Рассмотрим нашу статистику на примере:"
   ]
  },
  {
   "cell_type": "code",
   "execution_count": 2,
   "metadata": {},
   "outputs": [
    {
     "name": "stdout",
     "output_type": "stream",
     "text": [
      "[10 13  7 20]\n",
      "quad_stat statistic equals 0.034199999999999994\n"
     ]
    }
   ],
   "source": [
    "from scipy.stats import multinomial\n",
    "import numpy\n",
    "\n",
    "sample_rv = multinomial.rvs(n=50, p=[0.15, 0.20, 0.30, 0.35], size=1)[0]\n",
    "print(sample_rv)\n",
    "print('quad_stat statistic equals {}'.format(quad_stat(sample_rv)))"
   ]
  },
  {
   "cell_type": "code",
   "execution_count": null,
   "metadata": {},
   "outputs": [],
   "source": []
  }
 ],
 "metadata": {
  "kernelspec": {
   "display_name": "Python 3",
   "language": "python",
   "name": "python3"
  },
  "language_info": {
   "codemirror_mode": {
    "name": "ipython",
    "version": 3
   },
   "file_extension": ".py",
   "mimetype": "text/x-python",
   "name": "python",
   "nbconvert_exporter": "python",
   "pygments_lexer": "ipython3",
   "version": "3.7.6"
  }
 },
 "nbformat": 4,
 "nbformat_minor": 4
}
