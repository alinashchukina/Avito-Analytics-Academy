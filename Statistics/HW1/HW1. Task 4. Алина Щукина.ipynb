{
 "cells": [
  {
   "cell_type": "markdown",
   "metadata": {},
   "source": [
    "\n",
    "\n",
    "$\n",
    "    \\xi \\sim \\text{multinomial}(n, \\{\\mu_1, \\mu_2, \\mu_3, \\mu_4\\}) =  \\text{multinomial}(n, \\mu^4)\n",
    "$\n",
    "\n",
    "\n",
    "$\n",
    "    H_0 : \\mu^4 = \\{0.15 ,0.20, 0.30, 0.35\\}\n",
    "$\n",
    "\n",
    "$\n",
    "    H_1 : \\mu^4 = \\left\\{\\frac{0.15}{1+k}+\\frac{k}{1+k} ,\\frac{0.20}{1+k}, \\frac{0.30}{1+k}, \\frac{0.35}{1+k}\\right\\}\n",
    "$\n",
    "\n",
    "$\n",
    "~~~~~~~\\text{или}~\\left\\{\\frac{0.15}{1+k},\\frac{0.20}{1+k}+\\frac{k}{1+k}, \\frac{0.30}{1+k}, \\frac{0.35}{1+k}\\right\\}\n",
    "$\n",
    "\n",
    "$\n",
    "~~~~~~~\\text{или}~\\left\\{\\frac{0.15}{1+k},\\frac{0.20}{1+k}, \\frac{0.30}{1+k}+\\frac{k}{1+k}, \\frac{0.35}{1+k}\\right\\}\n",
    "$\n",
    "\n",
    "$\n",
    "~~~~~~~\\text{или}~\\left\\{\\frac{0.15}{1+k},\\frac{0.20}{1+k}, \\frac{0.30}{1+k}, \\frac{0.35}{1+k}+\\frac{k}{1+k}\\right\\},~~~~k > 0\n",
    "$"
   ]
  },
  {
   "cell_type": "code",
   "execution_count": 90,
   "metadata": {},
   "outputs": [],
   "source": [
    "from scipy.stats import multinomial\n",
    "import numpy\n",
    "import math"
   ]
  },
  {
   "cell_type": "markdown",
   "metadata": {},
   "source": [
    "Наша статистика должна быть величиной, которая хорошо характеризует отклонение нашего значения от ожидаемого. Мы хотим выявить случаи, когда доля трафика от одного из провайдеров подозрительно большая. Давайте возьмём в качестве статистики сумму квадратов отклонений наблюдаемого трафика каждого из провайдеров от исторических значений "
   ]
  },
  {
   "cell_type": "markdown",
   "metadata": {},
   "source": [
    "$ t = \\left(\\dfrac{x_1}{n} - 0.15\\right)^2 + \\left(\\dfrac{x_2}{n} - 0.20\\right)^2 + \\left(\\dfrac{x_3}{n} - 0.30\\right)^2 + \\left(\\dfrac{x_4}{n} - 0.35\\right)^2$"
   ]
  },
  {
   "cell_type": "code",
   "execution_count": 100,
   "metadata": {},
   "outputs": [],
   "source": [
    "def quad_stat(providers: list) -> float:\n",
    "    \"\"\"\n",
    "    Эта функция считает статистику описанную выше для наблюдаемых значений трафиков\n",
    "    \"\"\"\n",
    "    a = providers[0] / sum(providers)\n",
    "    b = providers[1] / sum(providers)\n",
    "    c = providers[2] / sum(providers)\n",
    "    d = providers[3] / sum(providers)\n",
    "    return ((a - 0.15)**2 + (b - 0.20)**2 +\n",
    "                     (c - 0.30)**2 + (d - 0.35)**2)"
   ]
  },
  {
   "cell_type": "code",
   "execution_count": 97,
   "metadata": {},
   "outputs": [],
   "source": [
    "numpy.random.seed(42)\n",
    "\n",
    "n = 100\n",
    "p0 = [0.15, 0.20, 0.30, 0.35]\n",
    "rv0 = multinomial(n, p = p0)\n",
    "\n",
    "\n",
    "H0 = [quad_stat(rv) for rv in rv0.rvs(size=10000)]\n",
    "alpha = 0.05\n",
    "value_critical = numpy.percentile(a=H0, q=(1-alpha) * 100)"
   ]
  },
  {
   "cell_type": "code",
   "execution_count": 98,
   "metadata": {},
   "outputs": [],
   "source": [
    "def power(k: float) -> float:\n",
    "    \"\"\"\n",
    "    Эта функция рассчитывает мощность нашей статистики, используя метод Монте-Карло\n",
    "    \"\"\"\n",
    "    numpy.random.seed(42)\n",
    "    \n",
    "    n_iterations = 1000\n",
    "    TP = 0\n",
    "    FN = 0\n",
    "\n",
    "    for i in range(n_iterations):\n",
    "\n",
    "        H1 = [0.15 /(1 + k) + k / (1 + k), 0.20/(1 + k),\n",
    "               0.30/(1 + k), 0.35/(1 + k)]\n",
    "\n",
    "\n",
    "        if (quad_stat(multinomial.rvs(n=100, \n",
    "                                      p=H1, size=1)[0]) >= value_critical):\n",
    "            TP += 1\n",
    "        else:\n",
    "            FN += 1\n",
    "\n",
    "    power = TP / (TP + FN)\n",
    "    return power"
   ]
  },
  {
   "cell_type": "code",
   "execution_count": 99,
   "metadata": {},
   "outputs": [
    {
     "name": "stdout",
     "output_type": "stream",
     "text": [
      "Например, мощность при k = 20% равна 0.934\n"
     ]
    }
   ],
   "source": [
    "print('Например, мощность при k = 20% равна {}'.format(power(0.2)))"
   ]
  },
  {
   "cell_type": "markdown",
   "metadata": {},
   "source": [
    "Посмотрим на график мощности нашего критерия для разных значений k от 1 до 100 процентов:"
   ]
  },
  {
   "cell_type": "code",
   "execution_count": 95,
   "metadata": {},
   "outputs": [
    {
     "data": {
      "image/png": "[encoded data removed]",
      "text/plain": [
       "<Figure size 1152x576 with 1 Axes>"
      ]
     },
     "metadata": {
      "needs_background": "light"
     },
     "output_type": "display_data"
    }
   ],
   "source": [
    "from matplotlib import pyplot\n",
    "\n",
    "pyplot.figure(figsize=(16, 8))\n",
    "\n",
    "pyplot.plot(\n",
    "    range(1, 100, 1), \n",
    "    [power(k/100) for k in range(1, 100, 1)], \n",
    "    'k-', linewidth=3.0, label='quad_stat'\n",
    ")\n",
    "\n",
    "pyplot.legend(loc='best', frameon=True)\n",
    "pyplot.show()"
   ]
  },
  {
   "cell_type": "markdown",
   "metadata": {},
   "source": [
    "Заметим, что с ростом k наша мощность возрастает. Это означает, что чем больше \"левого\" трафика подмешивает поставщик, тем больше вероятность обнаружить этот обман. Видно, что примерно при k = 40 мощность достигает почти 1, то есть ошибка второго рода становится почти равная нулю."
   ]
  },
  {
   "cell_type": "code",
   "execution_count": null,
   "metadata": {},
   "outputs": [],
   "source": []
  }
 ],
 "metadata": {
  "kernelspec": {
   "display_name": "Python 3",
   "language": "python",
   "name": "python3"
  },
  "language_info": {
   "codemirror_mode": {
    "name": "ipython",
    "version": 3
   },
   "file_extension": ".py",
   "mimetype": "text/x-python",
   "name": "python",
   "nbconvert_exporter": "python",
   "pygments_lexer": "ipython3",
   "version": "3.7.6"
  }
 },
 "nbformat": 4,
 "nbformat_minor": 4
}
