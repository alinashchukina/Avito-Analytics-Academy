{
 "cells": [
  {
   "cell_type": "markdown",
   "metadata": {},
   "source": [
    "#### Задача 2. Щукина Алина"
   ]
  },
  {
   "cell_type": "code",
   "execution_count": null,
   "metadata": {},
   "outputs": [],
   "source": [
    "from scipy.stats import binom\n",
    "\n",
    "def get_stat_power(n, mu0, mu, alpha):   \n",
    "\n",
    "    value_critical = binom.ppf(1 - alpha, n, mu0) + 1\n",
    "       \n",
    "    return 1 - binom.cdf(value_critical - 1, n, mu)\n",
    "\n",
    "get_stat_power(n=200, mu0=0.5, mu=0.6, alpha=0.05)"
   ]
  },
  {
   "cell_type": "code",
   "execution_count": null,
   "metadata": {},
   "outputs": [],
   "source": [
    "def N(alpha, beta, mu):\n",
    "    mu0=1\n",
    "    beta = binom.cdf(value_critical - 1, n, mu)\n",
    "    value_critical - 1 = binom.ppf(1 - alpha, n, mu0)\n",
    "    \n",
    "    \n",
    "    beta = binom.cdf(binom.ppf(1 - alpha, n, mu0), n, mu)"
   ]
  },
  {
   "cell_type": "code",
   "execution_count": 4,
   "metadata": {},
   "outputs": [
    {
     "data": {
      "text/plain": [
       "1.0"
      ]
     },
     "execution_count": 4,
     "metadata": {},
     "output_type": "execute_result"
    }
   ],
   "source": [
    "from scipy.stats import binom\n",
    "def get_p_value(t, n, mu0):        \n",
    "    return 1 - binom.cdf(t - 1, n, p=mu0) \n",
    "\n",
    "\n",
    "get_p_value(t=7, n=10, mu0=1)\n"
   ]
  },
  {
   "cell_type": "code",
   "execution_count": null,
   "metadata": {},
   "outputs": [],
   "source": []
  }
 ],
 "metadata": {
  "kernelspec": {
   "display_name": "Python 3",
   "language": "python",
   "name": "python3"
  },
  "language_info": {
   "codemirror_mode": {
    "name": "ipython",
    "version": 3
   },
   "file_extension": ".py",
   "mimetype": "text/x-python",
   "name": "python",
   "nbconvert_exporter": "python",
   "pygments_lexer": "ipython3",
   "version": "3.7.6"
  }
 },
 "nbformat": 4,
 "nbformat_minor": 4
}
