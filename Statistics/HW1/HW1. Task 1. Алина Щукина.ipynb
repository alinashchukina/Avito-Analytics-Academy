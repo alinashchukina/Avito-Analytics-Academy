{
 "cells": [
  {
   "cell_type": "markdown",
   "metadata": {},
   "source": [
    "#### Задача 1. Щукина Алина"
   ]
  },
  {
   "cell_type": "code",
   "execution_count": 1,
   "metadata": {},
   "outputs": [],
   "source": [
    "from scipy.stats import binom"
   ]
  },
  {
   "cell_type": "markdown",
   "metadata": {},
   "source": [
    "Осьминог Пауль 🐙 угадывает победителя футбольного матча. Он может его либо угадать, либо не угадать. То есть факт угадывания описывается бернуллиевской случайной величиной $\\xi$.  \n",
    "\n",
    "Выборка: $\\xi^{14} = \\left(\\xi_1, \\dots, \\xi_{14} \\right)$\n",
    "\n",
    "$\\xi_i \\sim \\text{Bernoulli}(p)$, где $p$ — вероятность угадывания победителя для генеральной совокупности."
   ]
  },
  {
   "cell_type": "markdown",
   "metadata": {},
   "source": [
    "В данной задаче нулевая гипотеза определена как то, что осьминог выбирает победителя случайно, что можно перефразировать как:\n",
    "\n",
    "$H_0$: $p = p_0 = 0.5$ \n",
    "\n",
    "Тогда сформулируем гипотезу $H_1$ как то, что вероятность того, что осьминог угадывает победителя больше $50\\%$:\n",
    "\n",
    "$H_1: p > 0.5$"
   ]
  },
  {
   "cell_type": "markdown",
   "metadata": {},
   "source": [
    "В этой задаче разумнее использовать именно односторонний критерий, поскольку нас, как потенциально желающих делать ставки по предсказаниям осьминога Пауля и выигрывать большие деньги, интересует именно тот факт, что вероятность угадывания победителя больше $50\\%$, а никак не меньше :)."
   ]
  },
  {
   "cell_type": "markdown",
   "metadata": {},
   "source": [
    "Зафиксируем статистику $T(\\xi^{14})$\n",
    "\n",
    "В качестве статистики возьмем сумму всех $\\xi_i$: \n",
    "\n",
    "$T(\\xi^{14}) = \\sum_{i=1}^{14} \\xi_i$  "
   ]
  },
  {
   "cell_type": "markdown",
   "metadata": {},
   "source": [
    "Мы получили реализацию статистики $t = T(x^{14}) = 12$"
   ]
  },
  {
   "cell_type": "markdown",
   "metadata": {},
   "source": [
    "Найдём критическую область, то есть все $t$, для которых p-value меньше $\\alpha = 0.05$, и которые отклоняют $H_0$:"
   ]
  },
  {
   "cell_type": "code",
   "execution_count": 2,
   "metadata": {},
   "outputs": [
    {
     "name": "stdout",
     "output_type": "stream",
     "text": [
      "Reject H0 if t >= 11\n"
     ]
    }
   ],
   "source": [
    "N = 14\n",
    "p = 0.5\n",
    "alpha = 0.05\n",
    "\n",
    "value_critical = binom.ppf(1 - alpha, N, p) + 1\n",
    "\n",
    "print(f'Reject H0 if t >= {int(value_critical)}')\n"
   ]
  },
  {
   "cell_type": "markdown",
   "metadata": {},
   "source": [
    "Мы получили значение статистики t = 12 (12 > 11), то есть мы **отвергаем нулевую гипотезу** $H_0$: $p = 0.5$."
   ]
  },
  {
   "cell_type": "markdown",
   "metadata": {},
   "source": [
    "Хотелось бы также понять, насколько сильно мы уверены в том, что $H_0$ неверна. То есть посчитаем p-value, то есть вероятность получить 12 или больше правильно угаданных победителей:"
   ]
  },
  {
   "cell_type": "code",
   "execution_count": 3,
   "metadata": {},
   "outputs": [
    {
     "data": {
      "text/plain": [
       "0.0064697265625"
      ]
     },
     "execution_count": 3,
     "metadata": {},
     "output_type": "execute_result"
    }
   ],
   "source": [
    "def get_p_value(t, n, p):       \n",
    "    return 1 - binom.cdf(t - 1, n, p=p) \n",
    "\n",
    "get_p_value(t=12, n=14, p=0.5)\n"
   ]
  },
  {
   "cell_type": "markdown",
   "metadata": {},
   "source": [
    "Заметим, что p_value = 0.0064 < 0.05 (alpha) на целых 0.0436, то есть на $4.46\\%$. Если бы мы установили уровень значимости alpha =0.01, то есть только в $1\\%$ случаев бы ложно отвергали нулевую гипотезу (то есть сделали бы наш критерий строже), то даже тогда мы бы отвергли нашу нулевую гипотезу. \n",
    "\n",
    "В данном случае, это могло произойти потому, что из 14 матчей осьминог правильно угадал 12, а наша критическая область начинается с 11. То есть наша статистика попала не просто на границу критической области, а внутрь неё. \n",
    "\n",
    "(Ну, и наверное чисто интуитивно 12 из 14 правильно угаданных матчей - это круто :) 🐙"
   ]
  },
  {
   "cell_type": "code",
   "execution_count": null,
   "metadata": {},
   "outputs": [],
   "source": []
  }
 ],
 "metadata": {
  "kernelspec": {
   "display_name": "Python 3",
   "language": "python",
   "name": "python3"
  },
  "language_info": {
   "codemirror_mode": {
    "name": "ipython",
    "version": 3
   },
   "file_extension": ".py",
   "mimetype": "text/x-python",
   "name": "python",
   "nbconvert_exporter": "python",
   "pygments_lexer": "ipython3",
   "version": "3.7.6"
  }
 },
 "nbformat": 4,
 "nbformat_minor": 4
}
